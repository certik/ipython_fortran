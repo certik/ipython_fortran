{
 "metadata": {
  "name": ""
 },
 "nbformat": 3,
 "nbformat_minor": 0,
 "worksheets": [
  {
   "cells": [
    {
     "cell_type": "markdown",
     "metadata": {},
     "source": [
      "# Python Fortran Rosetta Stone\n",
      "\n",
      "This shows Python/NumPy code side by side with Fortran. The Python code is simply executed directly. The Fortran code must be prefixed by the `%%fortran` magic, which is defined in the `fortranmagic.py` module, loaded by:"
     ]
    },
    {
     "cell_type": "code",
     "collapsed": false,
     "input": [
      "%reload_ext fortranmagic"
     ],
     "language": "python",
     "metadata": {},
     "outputs": [],
     "prompt_number": 21
    },
    {
     "cell_type": "markdown",
     "metadata": {},
     "source": [
      "Then we take the Fortran code, if it does not start with `module` or `program`, we prepend `implicit none` and append `end` (otherwise we leave it untouched), compile, execute and show the output. If it fails to compile, an exception will be raised."
     ]
    },
    {
     "cell_type": "markdown",
     "metadata": {},
     "source": [
      "### Example 1"
     ]
    },
    {
     "cell_type": "code",
     "collapsed": false,
     "input": [
      "from numpy import array, size, shape, min, max, sum\n",
      "a = array([1, 2, 3])\n",
      "print shape(a)\n",
      "print size(a)\n",
      "print max(a)\n",
      "print min(a)\n",
      "print sum(a)"
     ],
     "language": "python",
     "metadata": {},
     "outputs": [
      {
       "output_type": "stream",
       "stream": "stdout",
       "text": [
        "(3,)\n",
        "3\n",
        "3\n",
        "1\n",
        "6\n"
       ]
      }
     ],
     "prompt_number": 2
    },
    {
     "cell_type": "code",
     "collapsed": false,
     "input": [
      "%%fortran\n",
      "integer :: a(3)\n",
      "a = [1, 2, 3]\n",
      "print *, shape(a)\n",
      "print *, size(a)\n",
      "print *, maxval(a)\n",
      "print *, minval(a)\n",
      "print *, sum(a)"
     ],
     "language": "python",
     "metadata": {},
     "outputs": [
      {
       "output_type": "stream",
       "stream": "stdout",
       "text": [
        "           3\n",
        "           3\n",
        "           3\n",
        "           1\n",
        "           6\n",
        "\n"
       ]
      }
     ],
     "prompt_number": 3
    },
    {
     "cell_type": "markdown",
     "metadata": {},
     "source": [
      "### Example 2"
     ]
    },
    {
     "cell_type": "code",
     "collapsed": false,
     "input": [
      "from numpy import reshape\n",
      "a = reshape([1, 2, 3, 4, 5, 6], (2, 3))\n",
      "b = reshape([1, 2, 3, 4, 5, 6], (2, 3), order=\"F\")\n",
      "print a[0, :]\n",
      "print a[1, :]\n",
      "print\n",
      "print b[0, :]\n",
      "print b[1, :]"
     ],
     "language": "python",
     "metadata": {},
     "outputs": [
      {
       "output_type": "stream",
       "stream": "stdout",
       "text": [
        "[1 2 3]\n",
        "[4 5 6]\n",
        "\n",
        "[1 3 5]\n",
        "[2 4 6]\n"
       ]
      }
     ],
     "prompt_number": 4
    },
    {
     "cell_type": "code",
     "collapsed": false,
     "input": [
      "%%fortran\n",
      "integer :: a(2, 3), b(2, 3)\n",
      "a = reshape([1, 2, 3, 4, 5, 6], [2, 3], order=[2, 1])\n",
      "b = reshape([1, 2, 3, 4, 5, 6], [2, 3])\n",
      "print *, a(1, :)\n",
      "print *, a(2, :)\n",
      "print *\n",
      "print *, b(1, :)\n",
      "print *, b(2, :)"
     ],
     "language": "python",
     "metadata": {},
     "outputs": [
      {
       "output_type": "stream",
       "stream": "stdout",
       "text": [
        "           1           2           3\n",
        "           4           5           6\n",
        "\n",
        "           1           3           5\n",
        "           2           4           6\n",
        "\n"
       ]
      }
     ],
     "prompt_number": 5
    },
    {
     "cell_type": "markdown",
     "metadata": {},
     "source": [
      "### Example 3"
     ]
    },
    {
     "cell_type": "code",
     "collapsed": false,
     "input": [
      "from numpy import array, size, shape, max, min\n",
      "a = array([[1, 2, 3], [4, 5, 6]])\n",
      "print shape(a)\n",
      "print size(a, 0)\n",
      "print size(a, 1)\n",
      "print max(a)\n",
      "print min(a)\n",
      "print a[0, 0], a[0, 1], a[0, 2]\n",
      "print a[1, 0], a[1, 1], a[1, 2]\n",
      "print a"
     ],
     "language": "python",
     "metadata": {},
     "outputs": [
      {
       "output_type": "stream",
       "stream": "stdout",
       "text": [
        "(2, 3)\n",
        "2\n",
        "3\n",
        "6\n",
        "1\n",
        "1 2 3\n",
        "4 5 6\n",
        "[[1 2 3]\n",
        " [4 5 6]]\n"
       ]
      }
     ],
     "prompt_number": 6
    },
    {
     "cell_type": "code",
     "collapsed": false,
     "input": [
      "%%fortran\n",
      "integer :: a(2, 3)\n",
      "a = reshape([1, 2, 3, 4, 5, 6], [2, 3], order=[2, 1])\n",
      "print *, shape(a)\n",
      "print *, size(a, 1)\n",
      "print *, size(a, 2)\n",
      "print *, maxval(a)\n",
      "print *, minval(a)\n",
      "print *, a(1, 1), a(1, 2), a(1, 3)\n",
      "print *, a(2, 1), a(2, 2), a(2, 3)\n",
      "print \"(3i5)\", transpose(a)"
     ],
     "language": "python",
     "metadata": {},
     "outputs": [
      {
       "output_type": "stream",
       "stream": "stdout",
       "text": [
        "           2           3\n",
        "           2\n",
        "           3\n",
        "           6\n",
        "           1\n",
        "           1           2           3\n",
        "           4           5           6\n",
        "    1    2    3\n",
        "    4    5    6\n",
        "\n"
       ]
      }
     ],
     "prompt_number": 7
    },
    {
     "cell_type": "markdown",
     "metadata": {},
     "source": [
      "### Example 4"
     ]
    },
    {
     "cell_type": "code",
     "collapsed": false,
     "input": [
      "from numpy import array, dot\n",
      "a = array([[1, 2], [3, 4]])\n",
      "b = array([[2, 3], [4, 5]])\n",
      "print a * b\n",
      "print dot(a, b)"
     ],
     "language": "python",
     "metadata": {},
     "outputs": [
      {
       "output_type": "stream",
       "stream": "stdout",
       "text": [
        "[[ 2  6]\n",
        " [12 20]]\n",
        "[[10 13]\n",
        " [22 29]]\n"
       ]
      }
     ],
     "prompt_number": 8
    },
    {
     "cell_type": "code",
     "collapsed": false,
     "input": [
      "%%fortran\n",
      "integer :: a(2, 2), b(2, 2)\n",
      "a = reshape([1, 2, 3, 4], [2, 2], order=[2, 1])\n",
      "b = reshape([2, 3, 4, 5], [2, 2], order=[2, 1])\n",
      "print *, a * b\n",
      "print *, matmul(a, b)"
     ],
     "language": "python",
     "metadata": {},
     "outputs": [
      {
       "output_type": "stream",
       "stream": "stdout",
       "text": [
        "           2          12           6          20\n",
        "          10          22          13          29\n",
        "\n"
       ]
      }
     ],
     "prompt_number": 22
    },
    {
     "cell_type": "markdown",
     "metadata": {},
     "source": [
      "## Modules"
     ]
    },
    {
     "cell_type": "code",
     "collapsed": false,
     "input": [
      "%%fortran\n",
      "module a\n",
      "implicit none\n",
      "\n",
      "integer :: i = 5\n",
      "\n",
      "contains\n",
      "\n",
      "integer function f(x) result(r)\n",
      "integer, intent(in) :: x\n",
      "r = x + 5\n",
      "end function\n",
      "\n",
      "integer function g(x) result(r)\n",
      "integer, intent(in) :: x\n",
      "r = x - 5\n",
      "end function\n",
      "\n",
      "end module\n",
      "\n",
      "program main\n",
      "use a, only: f, i\n",
      "implicit none\n",
      "print *, f(3)\n",
      "print *, i\n",
      "end program"
     ],
     "language": "python",
     "metadata": {},
     "outputs": [
      {
       "output_type": "stream",
       "stream": "stdout",
       "text": [
        "           8\n",
        "           5\n",
        "\n"
       ]
      }
     ],
     "prompt_number": 23
    },
    {
     "cell_type": "code",
     "collapsed": false,
     "input": [],
     "language": "python",
     "metadata": {},
     "outputs": []
    }
   ],
   "metadata": {}
  }
 ]
}